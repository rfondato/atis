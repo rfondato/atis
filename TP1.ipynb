{
  "cells": [
    {
      "attachments": {},
      "cell_type": "markdown",
      "metadata": {
        "id": "GYkSWYBUKq0j"
      },
      "source": [
        "Como primer paso, instalamos openCV y Numpy, luego clonamos el repositorio con los archivos:"
      ]
    },
    {
      "cell_type": "code",
      "execution_count": 13,
      "metadata": {
        "colab": {
          "base_uri": "https://localhost:8080/",
          "height": 676
        },
        "id": "9bSpuvAgkxce",
        "outputId": "4a6798ee-2015-4a37-e978-68cd30f93102"
      },
      "outputs": [],
      "source": [
        "# Only for Collab\n",
        "#!pip install numpy==1.23\n",
        "#!pip install opencv-python==4.7.0.72\n",
        "#!pip install rasterio\n",
        "\n",
        "# TODO: Clone"
      ]
    },
    {
      "attachments": {},
      "cell_type": "markdown",
      "metadata": {
        "id": "24zoNVbRpPRp"
      },
      "source": [
        "### **Ejercicios 1 y 2:**"
      ]
    },
    {
      "attachments": {},
      "cell_type": "markdown",
      "metadata": {
        "id": "mWpA0TNUltE8"
      },
      "source": [
        "Cargamos una imagen de ejemplo utilizando openCV:"
      ]
    },
    {
      "cell_type": "code",
      "execution_count": 2,
      "metadata": {
        "id": "DCD63HBQK2yu"
      },
      "outputs": [],
      "source": [
        "import cv2\n",
        "import numpy as np\n",
        "\n",
        "img_folder_path = './Example Landsat8/'\n",
        "image = cv2.imread(f'{img_folder_path}LC08_224-078_2018-01-05_RGB.png')"
      ]
    },
    {
      "cell_type": "code",
      "execution_count": 2,
      "metadata": {
        "colab": {
          "base_uri": "https://localhost:8080/"
        },
        "id": "seLtTbjymj9h",
        "outputId": "a4384bab-8087-43d2-c11d-516d07f8bd4f"
      },
      "outputs": [
        {
          "data": {
            "text/plain": [
              "numpy.ndarray"
            ]
          },
          "execution_count": 2,
          "metadata": {},
          "output_type": "execute_result"
        }
      ],
      "source": [
        "type(image)"
      ]
    },
    {
      "cell_type": "code",
      "execution_count": 3,
      "metadata": {
        "colab": {
          "base_uri": "https://localhost:8080/",
          "height": 165
        },
        "id": "ouwA5WgLsw8u",
        "outputId": "66e98ec1-2f6b-43b3-8084-ef179cad9b89"
      },
      "outputs": [
        {
          "data": {
            "text/plain": [
              "dtype('uint8')"
            ]
          },
          "execution_count": 3,
          "metadata": {},
          "output_type": "execute_result"
        }
      ],
      "source": [
        "image.dtype"
      ]
    },
    {
      "cell_type": "code",
      "execution_count": 4,
      "metadata": {
        "colab": {
          "base_uri": "https://localhost:8080/"
        },
        "id": "dGwflDaxmnK9",
        "outputId": "acc2faa5-fe48-45f7-dbcd-2054da788727"
      },
      "outputs": [
        {
          "data": {
            "text/plain": [
              "(451, 1042, 3)"
            ]
          },
          "execution_count": 4,
          "metadata": {},
          "output_type": "execute_result"
        }
      ],
      "source": [
        "image.shape"
      ]
    },
    {
      "attachments": {},
      "cell_type": "markdown",
      "metadata": {
        "id": "i-mqZz6rmozF"
      },
      "source": [
        "La mostramos:"
      ]
    },
    {
      "cell_type": "code",
      "execution_count": 3,
      "metadata": {
        "colab": {
          "base_uri": "https://localhost:8080/",
          "height": 458
        },
        "id": "AoFBomtTpwc1",
        "outputId": "9dddb114-2778-4564-fa4d-5e4ccc5024dd"
      },
      "outputs": [],
      "source": [
        "# Collab Version\n",
        "#from google.colab.patches import cv2_imshow\n",
        "#def show_image(img):\n",
        "#    cv2_imshow(img)\n",
        "\n",
        "# Desktop Version\n",
        "def show_image(img):\n",
        "    cv2.imshow('image', img)\n",
        "    cv2.waitKey(0)\n",
        "    cv2.destroyAllWindows()"
      ]
    },
    {
      "cell_type": "code",
      "execution_count": 6,
      "metadata": {},
      "outputs": [],
      "source": [
        "show_image(image)"
      ]
    },
    {
      "attachments": {},
      "cell_type": "markdown",
      "metadata": {
        "id": "GXIrFACLp360"
      },
      "source": [
        "Guardamos una copia en la misma carpeta:"
      ]
    },
    {
      "cell_type": "code",
      "execution_count": 7,
      "metadata": {
        "colab": {
          "base_uri": "https://localhost:8080/"
        },
        "id": "SMT24CeSq4-i",
        "outputId": "2a352f7f-69ac-4f33-c0c3-9182bab93bca"
      },
      "outputs": [
        {
          "data": {
            "text/plain": [
              "True"
            ]
          },
          "execution_count": 7,
          "metadata": {},
          "output_type": "execute_result"
        }
      ],
      "source": [
        "cv2.imwrite(img_folder_path + \"copy.png\", image)"
      ]
    },
    {
      "attachments": {},
      "cell_type": "markdown",
      "metadata": {
        "id": "T_MlYa-2rrsu"
      },
      "source": [
        "Obtenemos el valor del pixel de una imagen:"
      ]
    },
    {
      "cell_type": "code",
      "execution_count": 8,
      "metadata": {
        "id": "y7dnbuEIr0hg"
      },
      "outputs": [],
      "source": [
        "def get_pixel_value(img, x, y):\n",
        "  return img[x, y]"
      ]
    },
    {
      "cell_type": "code",
      "execution_count": 9,
      "metadata": {
        "colab": {
          "base_uri": "https://localhost:8080/"
        },
        "id": "9Mvp93x3r_Ri",
        "outputId": "b69e184d-4651-428f-c5ca-8e16cb6a87ac"
      },
      "outputs": [
        {
          "name": "stdout",
          "output_type": "stream",
          "text": [
            "Pixel (0,324):  [81 81 34]\n"
          ]
        }
      ],
      "source": [
        "print(\"Pixel (0,324): \", get_pixel_value(image, 0, 324))"
      ]
    },
    {
      "cell_type": "code",
      "execution_count": 10,
      "metadata": {
        "colab": {
          "base_uri": "https://localhost:8080/"
        },
        "id": "EGt8ggPBsI9V",
        "outputId": "0cb7ebb9-93b0-403e-c1be-521fdc6924ce"
      },
      "outputs": [
        {
          "name": "stdout",
          "output_type": "stream",
          "text": [
            "Pixel (200,500):  [30 27 12]\n"
          ]
        }
      ],
      "source": [
        "print(\"Pixel (200,500): \", get_pixel_value(image, 200, 500))"
      ]
    },
    {
      "attachments": {},
      "cell_type": "markdown",
      "metadata": {
        "id": "ed38SLN3sPdD"
      },
      "source": [
        "Copiamos una parte de la imagen en otro archivo:"
      ]
    },
    {
      "cell_type": "code",
      "execution_count": 107,
      "metadata": {
        "id": "fMe6tZJwyX1b"
      },
      "outputs": [],
      "source": [
        "def crop_image(image, x1, y1, x2, y2, path=None):\n",
        "  cropped = image[x1:x2, y1:y2, :].copy()\n",
        "  if (path is not None) and (path != ''):\n",
        "    cv2.imwrite(path, cropped)\n",
        "  return cropped"
      ]
    },
    {
      "cell_type": "code",
      "execution_count": 12,
      "metadata": {
        "id": "tT_NgKrgyqAe"
      },
      "outputs": [],
      "source": [
        "cropped = crop_image(image, 0, 324, 200, 524, img_folder_path + \"cropped.tif\")"
      ]
    },
    {
      "cell_type": "code",
      "execution_count": 13,
      "metadata": {
        "colab": {
          "base_uri": "https://localhost:8080/",
          "height": 217
        },
        "id": "k4YvS6hqyt5T",
        "outputId": "79e56dd2-8cb4-4acf-ee4b-af99d5fbd2ae"
      },
      "outputs": [],
      "source": [
        "show_image(cropped)"
      ]
    },
    {
      "attachments": {},
      "cell_type": "markdown",
      "metadata": {
        "id": "mLZuvF-i0dkx"
      },
      "source": [
        "### **Ejercicios 3 y 4:**"
      ]
    },
    {
      "cell_type": "code",
      "execution_count": 14,
      "metadata": {
        "id": "IdFjANR31rKr"
      },
      "outputs": [],
      "source": [
        "def get_pixels_mean_report(image, x1, y1, x2, y2):\n",
        "  cropped = image[x1:x2, y1:y2, :]\n",
        "  print(\"Número de pixels:\", cropped.size)\n",
        "  print(\"Dimensiones:\", cropped.shape)\n",
        "  print(\"Cantidad de bandas:\", cropped.shape[2])\n",
        "  print(\"Promedio de intensidad por banda:\", np.mean(image, axis=(0, 1)))\n",
        "  print(\"Promedio general de color:\", np.mean(image))"
      ]
    },
    {
      "cell_type": "code",
      "execution_count": 15,
      "metadata": {
        "colab": {
          "base_uri": "https://localhost:8080/"
        },
        "id": "Ek5N9UTl3C6G",
        "outputId": "fa91b19c-fb58-4202-b03e-3cb723767703"
      },
      "outputs": [
        {
          "name": "stdout",
          "output_type": "stream",
          "text": [
            "Número de pixels: 120000\n",
            "Dimensiones: (200, 200, 3)\n",
            "Cantidad de bandas: 3\n",
            "Promedio de intensidad por banda: [25.14998659 29.18185436 20.92060297]\n",
            "Promedio general de color: 25.08414797287041\n"
          ]
        }
      ],
      "source": [
        "get_pixels_mean_report(image, 0, 324, 200, 524)"
      ]
    },
    {
      "attachments": {},
      "cell_type": "markdown",
      "metadata": {
        "id": "Vsl9jzrT3HdG"
      },
      "source": [
        "### Carga de imagen de Landsat8 con 7 bandas:"
      ]
    },
    {
      "attachments": {},
      "cell_type": "markdown",
      "metadata": {},
      "source": [
        "Para los siguientes ejercicios, definimos un mecanismo para cargar múltiples bandas en una sola matriz:"
      ]
    },
    {
      "cell_type": "code",
      "execution_count": 4,
      "metadata": {},
      "outputs": [
        {
          "name": "stdout",
          "output_type": "stream",
          "text": [
            "Loaded Band: LC08_224-078_2018-01-05_blue.tif\n",
            "Loaded Band: LC08_224-078_2018-01-05_ca.tif\n",
            "Loaded Band: LC08_224-078_2018-01-05_green.tif\n",
            "Loaded Band: LC08_224-078_2018-01-05_nir.tif\n",
            "Loaded Band: LC08_224-078_2018-01-05_red.tif\n",
            "Loaded Band: LC08_224-078_2018-01-05_swir1.tif\n",
            "Loaded Band: LC08_224-078_2018-01-05_swir2.tif\n"
          ]
        }
      ],
      "source": [
        "import os\n",
        "landsat8_bands_folder = './Landsat8 - Tiff/'\n",
        "\n",
        "def load_landsat8_band(folder_path, file):\n",
        "    print(\"Loaded Band:\", file)\n",
        "    band = cv2.imread(folder_path + file)\n",
        "    return band[:,:, 0]\n",
        "\n",
        "def load_landsat8_image(folder_path, prefix, img_extension = \".tif\"):\n",
        "    bands = [(f.replace(img_extension, \"\").replace(prefix, \"\"), load_landsat8_band(folder_path, f)) for f in os.listdir(folder_path) if (f.startswith(prefix) and f.endswith(img_extension))]\n",
        "    image = np.array([band for _,band in bands])\n",
        "    bands_index = {name:index for (index, name) in enumerate([name for (name,_) in bands])}\n",
        "    return image, bands_index\n",
        "\n",
        "landsat8_image, bands_index = load_landsat8_image(landsat8_bands_folder, \"LC08_224-078_2018-01-05_\")"
      ]
    },
    {
      "cell_type": "code",
      "execution_count": 5,
      "metadata": {},
      "outputs": [
        {
          "data": {
            "text/plain": [
              "(7, 451, 1042)"
            ]
          },
          "execution_count": 5,
          "metadata": {},
          "output_type": "execute_result"
        }
      ],
      "source": [
        "landsat8_image.shape"
      ]
    },
    {
      "cell_type": "code",
      "execution_count": 6,
      "metadata": {},
      "outputs": [
        {
          "data": {
            "text/plain": [
              "{'blue': 0, 'ca': 1, 'green': 2, 'nir': 3, 'red': 4, 'swir1': 5, 'swir2': 6}"
            ]
          },
          "execution_count": 6,
          "metadata": {},
          "output_type": "execute_result"
        }
      ],
      "source": [
        "bands_index"
      ]
    },
    {
      "cell_type": "code",
      "execution_count": 7,
      "metadata": {},
      "outputs": [],
      "source": [
        "def calculate_indexes(landsat_image, bands_index):\n",
        "    nir = landsat_image[bands_index[\"nir\"]]\n",
        "    r = landsat_image[bands_index[\"red\"]]\n",
        "    g = landsat_image[bands_index[\"green\"]]\n",
        "\n",
        "    ndvi = np.divide(nir - r, nir + r, out=np.zeros_like(nir, dtype='float64'), where=(nir + r) != 0).astype('uint8')\n",
        "    ndwi = np.divide(g - nir, g + nir, out=np.zeros_like(nir, dtype='float64'), where=(g + nir) != 0).astype('uint8')\n",
        "    return ndvi, ndwi"
      ]
    },
    {
      "cell_type": "code",
      "execution_count": 8,
      "metadata": {},
      "outputs": [],
      "source": [
        "ndvi, ndwi = calculate_indexes(landsat8_image, bands_index)"
      ]
    },
    {
      "cell_type": "code",
      "execution_count": 9,
      "metadata": {},
      "outputs": [],
      "source": [
        "def convert_index_to_image(index):\n",
        "    final_image = np.zeros((index.shape[0], index.shape[1], 3))\n",
        "    for i in range(3):\n",
        "        final_image[:, :, i] = index\n",
        "    return final_image"
      ]
    },
    {
      "cell_type": "code",
      "execution_count": 19,
      "metadata": {},
      "outputs": [],
      "source": [
        "ndvi_image = convert_index_to_image(ndvi)\n",
        "show_image(ndvi_image)"
      ]
    },
    {
      "cell_type": "code",
      "execution_count": 20,
      "metadata": {},
      "outputs": [],
      "source": [
        "ndwi_image = convert_index_to_image(ndwi)\n",
        "show_image(ndwi_image)"
      ]
    },
    {
      "attachments": {},
      "cell_type": "markdown",
      "metadata": {},
      "source": [
        "### **Ejercicio 6:**"
      ]
    },
    {
      "cell_type": "code",
      "execution_count": 37,
      "metadata": {},
      "outputs": [],
      "source": [
        "def gamma_correction(image, gamma, L):\n",
        "    c = (L-1)**(2 - gamma) # Uso (2 - gamma) para que el valor quede entre 0 y L-1 en vez de 0 y 1\n",
        "    return (c * np.power(image, gamma)).astype(\"uint8\")"
      ]
    },
    {
      "attachments": {},
      "cell_type": "markdown",
      "metadata": {},
      "source": [
        "Gamma = 2"
      ]
    },
    {
      "cell_type": "code",
      "execution_count": 39,
      "metadata": {},
      "outputs": [],
      "source": [
        "show_image(gamma_correction(ndvi_image, 2, 256))"
      ]
    },
    {
      "attachments": {},
      "cell_type": "markdown",
      "metadata": {},
      "source": [
        "Gamma = 0.7"
      ]
    },
    {
      "cell_type": "code",
      "execution_count": 40,
      "metadata": {},
      "outputs": [],
      "source": [
        "show_image(gamma_correction(ndvi_image, 0.7, 256))"
      ]
    },
    {
      "attachments": {},
      "cell_type": "markdown",
      "metadata": {},
      "source": [
        "Gamma = 0.5"
      ]
    },
    {
      "cell_type": "code",
      "execution_count": 41,
      "metadata": {},
      "outputs": [],
      "source": [
        "show_image(gamma_correction(ndvi_image, 0.5, 256))"
      ]
    },
    {
      "attachments": {},
      "cell_type": "markdown",
      "metadata": {},
      "source": [
        "Gamma = 0.2"
      ]
    },
    {
      "cell_type": "code",
      "execution_count": 42,
      "metadata": {},
      "outputs": [],
      "source": [
        "show_image(gamma_correction(ndvi_image, 0.2, 256))"
      ]
    },
    {
      "attachments": {},
      "cell_type": "markdown",
      "metadata": {},
      "source": [
        "### Ejercicio 7:"
      ]
    },
    {
      "cell_type": "code",
      "execution_count": 136,
      "metadata": {},
      "outputs": [],
      "source": [
        "rgb_folder_path = './Example Landsat8/'\n",
        "image = cv2.imread(f'{rgb_folder_path}LC08_224-078_2018-01-05_RGB.png')\n",
        "image = crop_image(image, 0, 324, 450, 717) # Recorto los bordes negros"
      ]
    },
    {
      "cell_type": "code",
      "execution_count": 182,
      "metadata": {},
      "outputs": [],
      "source": [
        "def invert_color(image, band = None, max_value = 255):\n",
        "    inverted_image = max_value - image\n",
        "    if band is None:\n",
        "        return inverted_image\n",
        "    \n",
        "    for i in range(image.shape[2]):\n",
        "        if i != band:\n",
        "            inverted_image[:, :, i] = inverted_image[:, :, band]\n",
        "\n",
        "    #inverted_image = image.copy()\n",
        "    #inverted_image[:, :, band] = max_value - image[:, :, band]\n",
        "\n",
        "    return inverted_image"
      ]
    },
    {
      "attachments": {},
      "cell_type": "markdown",
      "metadata": {},
      "source": [
        "Inversión de primer banda (Azul):"
      ]
    },
    {
      "cell_type": "code",
      "execution_count": 183,
      "metadata": {},
      "outputs": [],
      "source": [
        "show_image(invert_color(image, 0))"
      ]
    },
    {
      "attachments": {},
      "cell_type": "markdown",
      "metadata": {},
      "source": [
        "Inversión de segunda banda (Verde):"
      ]
    },
    {
      "cell_type": "code",
      "execution_count": 184,
      "metadata": {},
      "outputs": [],
      "source": [
        "show_image(invert_color(image, 1))"
      ]
    },
    {
      "attachments": {},
      "cell_type": "markdown",
      "metadata": {},
      "source": [
        "Inversión de tercera banda (Rojo):"
      ]
    },
    {
      "cell_type": "code",
      "execution_count": 185,
      "metadata": {},
      "outputs": [],
      "source": [
        "show_image(invert_color(image, 2))"
      ]
    },
    {
      "attachments": {},
      "cell_type": "markdown",
      "metadata": {},
      "source": [
        "Inversión de todas las bandas:"
      ]
    },
    {
      "cell_type": "code",
      "execution_count": 229,
      "metadata": {},
      "outputs": [],
      "source": [
        "show_image(invert_color(image))"
      ]
    },
    {
      "attachments": {},
      "cell_type": "markdown",
      "metadata": {},
      "source": [
        "### **Ejercicio 8:**"
      ]
    },
    {
      "cell_type": "code",
      "execution_count": 271,
      "metadata": {},
      "outputs": [],
      "source": [
        "def histogram(image, band, depth = 8):\n",
        "    hist = np.zeros(2**depth)\n",
        "    unique_counts = np.unique(image[:, :, band], return_counts=True)\n",
        "    unique_counts = zip(unique_counts[0], unique_counts[1])\n",
        "    for value,count in unique_counts:\n",
        "        hist[value] = count / image[:, :, band].size\n",
        "\n",
        "    return hist"
      ]
    },
    {
      "cell_type": "code",
      "execution_count": 277,
      "metadata": {},
      "outputs": [],
      "source": [
        "hists = [histogram(image, i) for i in range(3)]"
      ]
    },
    {
      "cell_type": "code",
      "execution_count": 280,
      "metadata": {},
      "outputs": [],
      "source": [
        "from matplotlib import pyplot as plt\n",
        "\n",
        "def plot_histograms(hists, titles, main_title):\n",
        "    fig, ax = plt.subplots(len(hists))\n",
        "    fig.suptitle(main_title)\n",
        "\n",
        "    for i in range(len(hists)):\n",
        "        ax[i].bar(np.linspace(0, len(hists[i]) - 1, len(hists[i])), hists[i])\n",
        "        ax[i].set_title(titles[i])\n",
        "\n",
        "    fig.tight_layout(h_pad=1)\n",
        "    plt.show()"
      ]
    },
    {
      "cell_type": "code",
      "execution_count": 281,
      "metadata": {},
      "outputs": [
        {
          "data": {
            "image/png": "[encoded data removed]",
            "text/plain": [
              "<Figure size 640x480 with 3 Axes>"
            ]
          },
          "metadata": {},
          "output_type": "display_data"
        }
      ],
      "source": [
        "plot_histograms(hists, [\"Blue band histogram\", \"Green band histogram\", \"Red band histogram\"], \"Histograms for RGB bands\")"
      ]
    },
    {
      "attachments": {},
      "cell_type": "markdown",
      "metadata": {},
      "source": [
        "### **Ejercicio 9:**"
      ]
    },
    {
      "cell_type": "code",
      "execution_count": 238,
      "metadata": {},
      "outputs": [],
      "source": [
        "def threshold(image, threshold, band, depth = 8):\n",
        "    th_image = np.zeros(image.shape)\n",
        "    th_image[image >= threshold] = (2**depth -1)\n",
        "\n",
        "    for i in range(image.shape[2]):\n",
        "        if i != band:\n",
        "            th_image[:, :, i] = th_image[:, :, band]\n",
        "\n",
        "    return th_image"
      ]
    },
    {
      "attachments": {},
      "cell_type": "markdown",
      "metadata": {},
      "source": [
        "Banda: Azul, Umbral: 127"
      ]
    },
    {
      "cell_type": "code",
      "execution_count": 242,
      "metadata": {},
      "outputs": [],
      "source": [
        "show_image(threshold(image, 127, 0))"
      ]
    },
    {
      "attachments": {},
      "cell_type": "markdown",
      "metadata": {},
      "source": [
        "Banda: Azul, Umbral: 50"
      ]
    },
    {
      "cell_type": "code",
      "execution_count": 243,
      "metadata": {},
      "outputs": [],
      "source": [
        "show_image(threshold(image, 50, 0))"
      ]
    },
    {
      "attachments": {},
      "cell_type": "markdown",
      "metadata": {},
      "source": [
        "Banda: Azul, Umbral: 200"
      ]
    },
    {
      "cell_type": "code",
      "execution_count": 246,
      "metadata": {},
      "outputs": [],
      "source": [
        "show_image(threshold(image, 200, 0))"
      ]
    },
    {
      "attachments": {},
      "cell_type": "markdown",
      "metadata": {},
      "source": [
        "Banda: Verde, Umbral: 100"
      ]
    },
    {
      "cell_type": "code",
      "execution_count": 249,
      "metadata": {},
      "outputs": [],
      "source": [
        "show_image(threshold(image, 100, 1))"
      ]
    },
    {
      "attachments": {},
      "cell_type": "markdown",
      "metadata": {},
      "source": [
        "Banda: Rojo, Umbral: Media"
      ]
    },
    {
      "cell_type": "code",
      "execution_count": 254,
      "metadata": {},
      "outputs": [
        {
          "data": {
            "text/plain": [
              "55"
            ]
          },
          "execution_count": 254,
          "metadata": {},
          "output_type": "execute_result"
        }
      ],
      "source": [
        "mean_value = round(np.mean(image[:, :, 2]))\n",
        "mean_value"
      ]
    },
    {
      "cell_type": "code",
      "execution_count": 255,
      "metadata": {},
      "outputs": [],
      "source": [
        "show_image(threshold(image, mean_value, 2))"
      ]
    },
    {
      "attachments": {},
      "cell_type": "markdown",
      "metadata": {},
      "source": [
        "### **Ejercicio 10:**"
      ]
    },
    {
      "cell_type": "code",
      "execution_count": 299,
      "metadata": {},
      "outputs": [],
      "source": [
        "def histogram_equalization(image, band, depth = 8):\n",
        "    hist = histogram(image, band, depth)\n",
        "    max_value = 2**depth - 1\n",
        "    transformed_levels = np.array([np.sum(hist[0:k]) for k in range(len(hist))]) * max_value\n",
        "    transform_function = np.vectorize(lambda x: transformed_levels[x])\n",
        "    return transform_function(image[:, :, band]).astype(\"uint\" + str(depth))"
      ]
    },
    {
      "cell_type": "code",
      "execution_count": 300,
      "metadata": {},
      "outputs": [],
      "source": [
        "eqs = [histogram_equalization(image, i) for i in range(3)]"
      ]
    },
    {
      "cell_type": "code",
      "execution_count": 304,
      "metadata": {},
      "outputs": [],
      "source": [
        "show_image(eqs[0])"
      ]
    },
    {
      "cell_type": "code",
      "execution_count": 305,
      "metadata": {},
      "outputs": [],
      "source": [
        "show_image(eqs[1])"
      ]
    },
    {
      "cell_type": "code",
      "execution_count": 306,
      "metadata": {},
      "outputs": [],
      "source": [
        "show_image(eqs[2])"
      ]
    },
    {
      "cell_type": "code",
      "execution_count": 311,
      "metadata": {},
      "outputs": [],
      "source": [
        "show_image(histogram_equalization(np.expand_dims(ndvi, 2), 0))"
      ]
    },
    {
      "cell_type": "code",
      "execution_count": null,
      "metadata": {},
      "outputs": [],
      "source": []
    }
  ],
  "metadata": {
    "colab": {
      "provenance": []
    },
    "kernelspec": {
      "display_name": "Python 3",
      "name": "python3"
    },
    "language_info": {
      "codemirror_mode": {
        "name": "ipython",
        "version": 3
      },
      "file_extension": ".py",
      "mimetype": "text/x-python",
      "name": "python",
      "nbconvert_exporter": "python",
      "pygments_lexer": "ipython3",
      "version": "3.10.11"
    }
  },
  "nbformat": 4,
  "nbformat_minor": 0
}
