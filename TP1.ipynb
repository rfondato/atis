{
  "cells": [
    {
      "attachments": {},
      "cell_type": "markdown",
      "metadata": {},
      "source": [
        "# TP 1: Análisis y Tratamiento de Imágenes Satelitales"
      ]
    },
    {
      "attachments": {},
      "cell_type": "markdown",
      "metadata": {},
      "source": [
        "### Rodrigo Carlos Fondato\n",
        "### MCD - 2023"
      ]
    },
    {
      "attachments": {},
      "cell_type": "markdown",
      "metadata": {
        "id": "GYkSWYBUKq0j"
      },
      "source": [
        "**Solo Colab**: Como primer paso, instalamos openCV y Numpy, luego clonamos el repositorio con los archivos para obtener las imágenes de ejemplo a utilizar:"
      ]
    },
    {
      "cell_type": "code",
      "execution_count": 13,
      "metadata": {
        "colab": {
          "base_uri": "https://localhost:8080/",
          "height": 676
        },
        "id": "9bSpuvAgkxce",
        "outputId": "4a6798ee-2015-4a37-e978-68cd30f93102"
      },
      "outputs": [],
      "source": [
        "# Only for Colab\n",
        "#!pip install numpy==1.23\n",
        "#!pip install opencv-python==4.7.0.72\n",
        "#!pip install rasterio\n",
        "\n",
        "#!git clone https://github.com/rfondato/atis.git"
      ]
    },
    {
      "attachments": {},
      "cell_type": "markdown",
      "metadata": {},
      "source": [
        "Cargamos librerías comunes a todos los ejercicios:"
      ]
    },
    {
      "cell_type": "code",
      "execution_count": 122,
      "metadata": {},
      "outputs": [],
      "source": [
        "import cv2\n",
        "import numpy as np\n",
        "import math\n",
        "import os"
      ]
    },
    {
      "attachments": {},
      "cell_type": "markdown",
      "metadata": {
        "id": "mWpA0TNUltE8"
      },
      "source": [
        "Cargamos una imagen de ejemplo para todos los ejercicios utilizando openCV:"
      ]
    },
    {
      "cell_type": "code",
      "execution_count": 123,
      "metadata": {},
      "outputs": [],
      "source": [
        "def get_example_image():\n",
        "    img_folder_path = './Example Landsat8/'\n",
        "    image = cv2.imread(f'{img_folder_path}LC08_224-078_2018-01-05_RGB.png')\n",
        "\n",
        "    # Crop de la imagen dado que tiene 2 bordes grandes negros a los costados\n",
        "    image = image[0:450, 324:717, :]\n",
        "\n",
        "    return image"
      ]
    },
    {
      "cell_type": "code",
      "execution_count": 124,
      "metadata": {},
      "outputs": [],
      "source": [
        "image = get_example_image()"
      ]
    },
    {
      "attachments": {},
      "cell_type": "markdown",
      "metadata": {},
      "source": [
        "Definimos una función para mostrar imágenes en todos los ejercicios:"
      ]
    },
    {
      "cell_type": "code",
      "execution_count": 125,
      "metadata": {},
      "outputs": [],
      "source": [
        "# Colab Version\n",
        "\n",
        "#from google.colab.patches import cv2_imshow\n",
        "#def show_image(img):\n",
        "#    cv2_imshow(img)\n",
        "\n",
        "# Desktop Version\n",
        "\n",
        "def show_image(img):\n",
        "    cv2.imshow('image', img)\n",
        "    cv2.waitKey(0)\n",
        "    cv2.destroyAllWindows()"
      ]
    },
    {
      "attachments": {},
      "cell_type": "markdown",
      "metadata": {
        "id": "24zoNVbRpPRp"
      },
      "source": [
        "### **Ejercicios 1 y 2:**"
      ]
    },
    {
      "attachments": {},
      "cell_type": "markdown",
      "metadata": {
        "id": "DCD63HBQK2yu"
      },
      "source": [
        "Cargamos una imagen:"
      ]
    },
    {
      "cell_type": "code",
      "execution_count": 126,
      "metadata": {},
      "outputs": [],
      "source": [
        "def load_image(path):\n",
        "    return cv2.imread(path)\n",
        "\n",
        "img_folder_path = './Example Landsat8/'\n",
        "image = load_image(img_folder_path + 'LC08_224-078_2018-01-05_RGB.png')"
      ]
    },
    {
      "attachments": {},
      "cell_type": "markdown",
      "metadata": {},
      "source": [
        "La imagen cargada con OpenCV es un array de numpy:"
      ]
    },
    {
      "cell_type": "code",
      "execution_count": 127,
      "metadata": {
        "colab": {
          "base_uri": "https://localhost:8080/"
        },
        "id": "seLtTbjymj9h",
        "outputId": "a4384bab-8087-43d2-c11d-516d07f8bd4f"
      },
      "outputs": [
        {
          "data": {
            "text/plain": [
              "numpy.ndarray"
            ]
          },
          "execution_count": 127,
          "metadata": {},
          "output_type": "execute_result"
        }
      ],
      "source": [
        "type(image)"
      ]
    },
    {
      "attachments": {},
      "cell_type": "markdown",
      "metadata": {},
      "source": [
        "El tipo de los elementos del array es uint8, es decir, la imágen tiene una profundidad de 8 bits (valores de 0 a 255) por banda:"
      ]
    },
    {
      "cell_type": "code",
      "execution_count": 128,
      "metadata": {
        "colab": {
          "base_uri": "https://localhost:8080/",
          "height": 165
        },
        "id": "ouwA5WgLsw8u",
        "outputId": "66e98ec1-2f6b-43b3-8084-ef179cad9b89"
      },
      "outputs": [
        {
          "data": {
            "text/plain": [
              "dtype('uint8')"
            ]
          },
          "execution_count": 128,
          "metadata": {},
          "output_type": "execute_result"
        }
      ],
      "source": [
        "image.dtype"
      ]
    },
    {
      "attachments": {},
      "cell_type": "markdown",
      "metadata": {},
      "source": [
        "Tamaño de la imagen: 451x1042x3 => 451 filas, 1042 columnas, 3 bandas"
      ]
    },
    {
      "cell_type": "code",
      "execution_count": 129,
      "metadata": {
        "colab": {
          "base_uri": "https://localhost:8080/"
        },
        "id": "dGwflDaxmnK9",
        "outputId": "acc2faa5-fe48-45f7-dbcd-2054da788727"
      },
      "outputs": [
        {
          "data": {
            "text/plain": [
              "(451, 1042, 3)"
            ]
          },
          "execution_count": 129,
          "metadata": {},
          "output_type": "execute_result"
        }
      ],
      "source": [
        "image.shape"
      ]
    },
    {
      "attachments": {},
      "cell_type": "markdown",
      "metadata": {
        "id": "i-mqZz6rmozF"
      },
      "source": [
        "La mostramos (ver definición de la función más arriba):"
      ]
    },
    {
      "cell_type": "code",
      "execution_count": 130,
      "metadata": {},
      "outputs": [],
      "source": [
        "show_image(image)"
      ]
    },
    {
      "attachments": {},
      "cell_type": "markdown",
      "metadata": {
        "id": "GXIrFACLp360"
      },
      "source": [
        "Guardamos una copia en la misma carpeta:"
      ]
    },
    {
      "cell_type": "code",
      "execution_count": 131,
      "metadata": {
        "colab": {
          "base_uri": "https://localhost:8080/"
        },
        "id": "SMT24CeSq4-i",
        "outputId": "2a352f7f-69ac-4f33-c0c3-9182bab93bca"
      },
      "outputs": [
        {
          "data": {
            "text/plain": [
              "True"
            ]
          },
          "execution_count": 131,
          "metadata": {},
          "output_type": "execute_result"
        }
      ],
      "source": [
        "cv2.imwrite(img_folder_path + \"copy.png\", image)"
      ]
    },
    {
      "attachments": {},
      "cell_type": "markdown",
      "metadata": {
        "id": "T_MlYa-2rrsu"
      },
      "source": [
        "Obtenemos el valor del pixel de una imagen:"
      ]
    },
    {
      "cell_type": "code",
      "execution_count": 132,
      "metadata": {
        "id": "y7dnbuEIr0hg"
      },
      "outputs": [],
      "source": [
        "def get_pixel_value(img, x, y):\n",
        "  return img[x, y]"
      ]
    },
    {
      "cell_type": "code",
      "execution_count": 133,
      "metadata": {
        "colab": {
          "base_uri": "https://localhost:8080/"
        },
        "id": "9Mvp93x3r_Ri",
        "outputId": "b69e184d-4651-428f-c5ca-8e16cb6a87ac"
      },
      "outputs": [
        {
          "name": "stdout",
          "output_type": "stream",
          "text": [
            "Pixel (0,324):  [81 81 34]\n"
          ]
        }
      ],
      "source": [
        "print(\"Pixel (0,324): \", get_pixel_value(image, 0, 324))"
      ]
    },
    {
      "cell_type": "code",
      "execution_count": 134,
      "metadata": {
        "colab": {
          "base_uri": "https://localhost:8080/"
        },
        "id": "EGt8ggPBsI9V",
        "outputId": "0cb7ebb9-93b0-403e-c1be-521fdc6924ce"
      },
      "outputs": [
        {
          "name": "stdout",
          "output_type": "stream",
          "text": [
            "Pixel (200,500):  [30 27 12]\n"
          ]
        }
      ],
      "source": [
        "print(\"Pixel (200,500): \", get_pixel_value(image, 200, 500))"
      ]
    },
    {
      "attachments": {},
      "cell_type": "markdown",
      "metadata": {
        "id": "ed38SLN3sPdD"
      },
      "source": [
        "Copiamos una parte de la imagen en otro archivo:"
      ]
    },
    {
      "cell_type": "code",
      "execution_count": 135,
      "metadata": {
        "id": "fMe6tZJwyX1b"
      },
      "outputs": [],
      "source": [
        "# Devuelve una porción de \"image\", desde (x1,y1) a (x2,y2).\n",
        "# Si path != None entonces usa ese path para guardar la porción de imágen en el path especificado.\n",
        "def crop_image(image, x1, y1, x2, y2, path=None):\n",
        "  cropped = image[x1:x2, y1:y2, :].copy()\n",
        "  if (path is not None) and (path != ''):\n",
        "    cv2.imwrite(path, cropped)\n",
        "  return cropped"
      ]
    },
    {
      "cell_type": "code",
      "execution_count": 136,
      "metadata": {
        "id": "tT_NgKrgyqAe"
      },
      "outputs": [],
      "source": [
        "cropped = crop_image(image, 0, 324, 200, 524, img_folder_path + \"cropped.tif\")"
      ]
    },
    {
      "cell_type": "code",
      "execution_count": 137,
      "metadata": {
        "colab": {
          "base_uri": "https://localhost:8080/",
          "height": 217
        },
        "id": "k4YvS6hqyt5T",
        "outputId": "79e56dd2-8cb4-4acf-ee4b-af99d5fbd2ae"
      },
      "outputs": [],
      "source": [
        "show_image(cropped)"
      ]
    },
    {
      "attachments": {},
      "cell_type": "markdown",
      "metadata": {
        "id": "mLZuvF-i0dkx"
      },
      "source": [
        "### **Ejercicios 3 y 4:**"
      ]
    },
    {
      "attachments": {},
      "cell_type": "markdown",
      "metadata": {},
      "source": [
        "Cargamos la imagen de ejemplo:"
      ]
    },
    {
      "cell_type": "code",
      "execution_count": 138,
      "metadata": {},
      "outputs": [],
      "source": [
        "image = get_example_image()\n",
        "show_image(image)"
      ]
    },
    {
      "attachments": {},
      "cell_type": "markdown",
      "metadata": {},
      "source": [
        "Definimos una función que retorna un reporte con estadísiticas de los pixels de una sección determinada y la usamos en la imágen de ejemplo."
      ]
    },
    {
      "cell_type": "code",
      "execution_count": 141,
      "metadata": {
        "id": "IdFjANR31rKr"
      },
      "outputs": [],
      "source": [
        "# Devuelve estadísticas de los pixels de la porción de la imágen entre las coordenadas (x1, y1) y (x2, y2)\n",
        "def get_pixels_mean_report(image, x1, y1, x2, y2):\n",
        "  cropped = image[x1:x2, y1:y2, :]\n",
        "  print(\"Número de pixels:\", cropped.size)\n",
        "  print(\"Dimensiones:\", cropped.shape)\n",
        "  print(\"Cantidad de bandas:\", cropped.shape[2])\n",
        "  print(\"Promedio de nivel de gris por banda:\", np.mean(image, axis=(0, 1)))\n",
        "  print(\"Promedio general de color:\", np.mean(image))\n",
        "  return cropped"
      ]
    },
    {
      "cell_type": "code",
      "execution_count": 142,
      "metadata": {
        "colab": {
          "base_uri": "https://localhost:8080/"
        },
        "id": "Ek5N9UTl3C6G",
        "outputId": "fa91b19c-fb58-4202-b03e-3cb723767703"
      },
      "outputs": [
        {
          "name": "stdout",
          "output_type": "stream",
          "text": [
            "Número de pixels: 120000\n",
            "Dimensiones: (200, 200, 3)\n",
            "Cantidad de bandas: 3\n",
            "Promedio de nivel de gris por banda: [66.67004806 77.32763359 55.44628781]\n",
            "Promedio general de color: 66.48132315521629\n"
          ]
        }
      ],
      "source": [
        "selected_section = get_pixels_mean_report(image, 0, 100, 200, 300)"
      ]
    },
    {
      "cell_type": "code",
      "execution_count": 143,
      "metadata": {},
      "outputs": [],
      "source": [
        "show_image(selected_section)"
      ]
    },
    {
      "attachments": {},
      "cell_type": "markdown",
      "metadata": {},
      "source": [
        "### **Ejercicio 5:**"
      ]
    },
    {
      "attachments": {},
      "cell_type": "markdown",
      "metadata": {
        "id": "Vsl9jzrT3HdG"
      },
      "source": [
        "### Carga de imagen de Landsat8 con 7 bandas:"
      ]
    },
    {
      "attachments": {},
      "cell_type": "markdown",
      "metadata": {},
      "source": [
        "Para los siguientes ejercicios, definimos un mecanismo para cargar múltiples bandas en una sola matriz:"
      ]
    },
    {
      "cell_type": "code",
      "execution_count": 144,
      "metadata": {},
      "outputs": [
        {
          "name": "stdout",
          "output_type": "stream",
          "text": [
            "Loaded Band: LC08_224-078_2018-01-05_blue.tif\n",
            "Loaded Band: LC08_224-078_2018-01-05_ca.tif\n",
            "Loaded Band: LC08_224-078_2018-01-05_green.tif\n",
            "Loaded Band: LC08_224-078_2018-01-05_nir.tif\n",
            "Loaded Band: LC08_224-078_2018-01-05_red.tif\n",
            "Loaded Band: LC08_224-078_2018-01-05_swir1.tif\n",
            "Loaded Band: LC08_224-078_2018-01-05_swir2.tif\n"
          ]
        }
      ],
      "source": [
        "landsat8_bands_folder = './Landsat8 - Tiff/'\n",
        "\n",
        "# Carga una banda y la devuelve, desde la carpeta y el archivo determinado\n",
        "def load_landsat8_band(folder_path, file):\n",
        "    print(\"Loaded Band:\", file)\n",
        "    band = cv2.imread(folder_path + file)\n",
        "    return band[:,:, 0]\n",
        "\n",
        "# Carga una imágen de landsat8 desde una carpeta en folder_path.\n",
        "# prefix => Prefijo a utilizar para buscar los archivos de bandas\n",
        "# img_extension => Extensión de los archivos de banda. Por defecto .tif\n",
        "# Devuelve la imágen y un diccionario con el nombre de cada banda\n",
        "def load_landsat8_image(folder_path, prefix, img_extension = \".tif\"):\n",
        "    bands = [(f.replace(img_extension, \"\").replace(prefix, \"\"), load_landsat8_band(folder_path, f)) for f in os.listdir(folder_path) if (f.startswith(prefix) and f.endswith(img_extension))]\n",
        "    image = np.array([band for _,band in bands])\n",
        "    image = image.swapaxes(0, 1).swapaxes(1,2)\n",
        "    bands_index = {name:index for (index, name) in enumerate([name for (name,_) in bands])}\n",
        "    return image, bands_index\n",
        "\n",
        "# Uso la función para cargar una imágen\n",
        "landsat8_image, bands_index = load_landsat8_image(landsat8_bands_folder, \"LC08_224-078_2018-01-05_\")"
      ]
    },
    {
      "attachments": {},
      "cell_type": "markdown",
      "metadata": {},
      "source": [
        "Tamaño de la imágen cargada, tiene 7 bandas: "
      ]
    },
    {
      "cell_type": "code",
      "execution_count": 145,
      "metadata": {},
      "outputs": [
        {
          "data": {
            "text/plain": [
              "(451, 1042, 7)"
            ]
          },
          "execution_count": 145,
          "metadata": {},
          "output_type": "execute_result"
        }
      ],
      "source": [
        "landsat8_image.shape"
      ]
    },
    {
      "attachments": {},
      "cell_type": "markdown",
      "metadata": {},
      "source": [
        "Índice de bandas (a que banda corresponde cada número):"
      ]
    },
    {
      "cell_type": "code",
      "execution_count": 146,
      "metadata": {},
      "outputs": [
        {
          "data": {
            "text/plain": [
              "{'blue': 0, 'ca': 1, 'green': 2, 'nir': 3, 'red': 4, 'swir1': 5, 'swir2': 6}"
            ]
          },
          "execution_count": 146,
          "metadata": {},
          "output_type": "execute_result"
        }
      ],
      "source": [
        "bands_index"
      ]
    },
    {
      "cell_type": "code",
      "execution_count": 147,
      "metadata": {},
      "outputs": [],
      "source": [
        "# Crop de la imagen dado que tiene 2 bordes grandes negros a los costados\n",
        "landsat8_image = landsat8_image[0:450, 324:717, :]"
      ]
    },
    {
      "attachments": {},
      "cell_type": "markdown",
      "metadata": {},
      "source": [
        "Calculamos los índices NVDI, NVWI y SVI"
      ]
    },
    {
      "cell_type": "code",
      "execution_count": 150,
      "metadata": {},
      "outputs": [],
      "source": [
        "def calculate_indexes(landsat_image, bands_index):\n",
        "    nir = landsat_image[:, :, bands_index[\"nir\"]].astype(\"float64\")\n",
        "    r = landsat_image[:, :, bands_index[\"red\"]].astype(\"float64\")\n",
        "    g = landsat_image[:, :, bands_index[\"green\"]].astype(\"float64\")\n",
        "    \n",
        "    ndvi = np.divide(nir - r, nir + r, out=np.zeros_like(nir, dtype='float64'), where=(nir + r) != 0)\n",
        "    ndwi = np.divide(g - nir, g + nir, out=np.zeros_like(nir, dtype='float64'), where=(g + nir) != 0)\n",
        "    svi = np.divide(nir, r, out=np.zeros_like(r,dtype='float64'), where=r != 0)\n",
        "    return ndvi, ndwi, svi"
      ]
    },
    {
      "cell_type": "code",
      "execution_count": 151,
      "metadata": {},
      "outputs": [],
      "source": [
        "ndvi, ndwi, svi = calculate_indexes(landsat8_image, bands_index)"
      ]
    },
    {
      "attachments": {},
      "cell_type": "markdown",
      "metadata": {},
      "source": [
        "Convertimos los índices a imágenes, ya que van de -1 a 1, y necesitan ser convertidos a valores entre 0 y 255"
      ]
    },
    {
      "cell_type": "code",
      "execution_count": 152,
      "metadata": {},
      "outputs": [],
      "source": [
        "def convert_index_to_image(index, bit_depth = 8):\n",
        "    max_value = 2 ** bit_depth - 1\n",
        "    return (((index - np.min(index)) / (np.max(index) - np.min(index))) * max_value).astype(\"uint\" + str(bit_depth))"
      ]
    },
    {
      "cell_type": "code",
      "execution_count": 153,
      "metadata": {},
      "outputs": [],
      "source": [
        "ndvi_image = convert_index_to_image(ndvi)\n",
        "ndwi_image = convert_index_to_image(ndwi)\n",
        "svi_image = convert_index_to_image(svi)"
      ]
    },
    {
      "attachments": {},
      "cell_type": "markdown",
      "metadata": {},
      "source": [
        "Mostramos NDVI:"
      ]
    },
    {
      "cell_type": "code",
      "execution_count": 154,
      "metadata": {},
      "outputs": [],
      "source": [
        "show_image(ndvi_image)"
      ]
    },
    {
      "attachments": {},
      "cell_type": "markdown",
      "metadata": {},
      "source": [
        "Mostramos NDWI:"
      ]
    },
    {
      "cell_type": "code",
      "execution_count": 155,
      "metadata": {},
      "outputs": [],
      "source": [
        "show_image(ndwi_image)"
      ]
    },
    {
      "attachments": {},
      "cell_type": "markdown",
      "metadata": {},
      "source": [
        "Mostramos SVI:"
      ]
    },
    {
      "cell_type": "code",
      "execution_count": 156,
      "metadata": {},
      "outputs": [],
      "source": [
        "show_image(svi_image)"
      ]
    },
    {
      "attachments": {},
      "cell_type": "markdown",
      "metadata": {},
      "source": [
        "### **Ejercicio 6:**"
      ]
    },
    {
      "attachments": {},
      "cell_type": "markdown",
      "metadata": {},
      "source": [
        "Definimos una función que aplica una corrección gamma a la imágen de entrada.\n",
        "Como parámetros recibe:\n",
        "\n",
        "* image = La imagen de entrada\n",
        "* gamma = Coeficiente gamma\n",
        "* bit_depth = Profundidad de bits usada en la imágen"
      ]
    },
    {
      "cell_type": "code",
      "execution_count": 157,
      "metadata": {},
      "outputs": [],
      "source": [
        "def gamma_correction(image, gamma, bit_depth = 8):\n",
        "    L = 2**bit_depth\n",
        "    c = (L-1)**(1 - gamma)\n",
        "    return (c * np.power(image, gamma)).astype('uint'+str(bit_depth))"
      ]
    },
    {
      "attachments": {},
      "cell_type": "markdown",
      "metadata": {},
      "source": [
        "Muestro imagen de NDVI corregida con Gamma = 1.8"
      ]
    },
    {
      "cell_type": "code",
      "execution_count": 158,
      "metadata": {},
      "outputs": [],
      "source": [
        "show_image(gamma_correction(ndvi_image, 1.8))"
      ]
    },
    {
      "attachments": {},
      "cell_type": "markdown",
      "metadata": {},
      "source": [
        "Muestro imagen de NDVI corregida con Gamma = 0.7"
      ]
    },
    {
      "cell_type": "code",
      "execution_count": 159,
      "metadata": {},
      "outputs": [],
      "source": [
        "show_image(gamma_correction(ndvi_image, 0.7))"
      ]
    },
    {
      "attachments": {},
      "cell_type": "markdown",
      "metadata": {},
      "source": [
        "Muestro imagen de NDVI corregida con Gamma = 0.5"
      ]
    },
    {
      "cell_type": "code",
      "execution_count": 160,
      "metadata": {},
      "outputs": [],
      "source": [
        "show_image(gamma_correction(ndvi_image, 0.5))"
      ]
    },
    {
      "attachments": {},
      "cell_type": "markdown",
      "metadata": {},
      "source": [
        "Muestro imagen de NDVI corregida con Gamma = 0.2"
      ]
    },
    {
      "cell_type": "code",
      "execution_count": 161,
      "metadata": {},
      "outputs": [],
      "source": [
        "show_image(gamma_correction(ndvi_image, 0.2))"
      ]
    },
    {
      "attachments": {},
      "cell_type": "markdown",
      "metadata": {},
      "source": [
        "### **Ejercicio 7**:"
      ]
    },
    {
      "attachments": {},
      "cell_type": "markdown",
      "metadata": {},
      "source": [
        "Obtenemos la imagen de ejemplo:"
      ]
    },
    {
      "cell_type": "code",
      "execution_count": 162,
      "metadata": {},
      "outputs": [],
      "source": [
        "image = get_example_image()\n",
        "show_image(image)"
      ]
    },
    {
      "attachments": {},
      "cell_type": "markdown",
      "metadata": {},
      "source": [
        "Definimos una función \"invert_color\" que realiza una inversión de colores de una banda, y recibe los siguientes parámetros:\n",
        "* image = La imágen a transformar\n",
        "* band = La banda de la imágen que será invertida. Si es \"None\", devuelve la inversión de todas las bandas.\n",
        "* bit_depth = La profundidad de bits usada en la imágen "
      ]
    },
    {
      "cell_type": "code",
      "execution_count": 163,
      "metadata": {},
      "outputs": [],
      "source": [
        "def invert_color(image, band = None, bit_depth = 8):    \n",
        "    max_value = 2 ** bit_depth - 1\n",
        "    if band is None:\n",
        "        return max_value - image\n",
        "\n",
        "    return  max_value - image[:, :, band]"
      ]
    },
    {
      "attachments": {},
      "cell_type": "markdown",
      "metadata": {},
      "source": [
        "Inversión de primer banda (Azul):"
      ]
    },
    {
      "cell_type": "code",
      "execution_count": 164,
      "metadata": {},
      "outputs": [],
      "source": [
        "show_image(invert_color(image, 0))"
      ]
    },
    {
      "attachments": {},
      "cell_type": "markdown",
      "metadata": {},
      "source": [
        "Inversión de segunda banda (Verde):"
      ]
    },
    {
      "cell_type": "code",
      "execution_count": 165,
      "metadata": {},
      "outputs": [],
      "source": [
        "show_image(invert_color(image, 1))"
      ]
    },
    {
      "attachments": {},
      "cell_type": "markdown",
      "metadata": {},
      "source": [
        "Inversión de tercera banda (Rojo):"
      ]
    },
    {
      "cell_type": "code",
      "execution_count": 166,
      "metadata": {},
      "outputs": [],
      "source": [
        "show_image(invert_color(image, 2))"
      ]
    },
    {
      "attachments": {},
      "cell_type": "markdown",
      "metadata": {},
      "source": [
        "Inversión de todas las bandas:"
      ]
    },
    {
      "cell_type": "code",
      "execution_count": 167,
      "metadata": {},
      "outputs": [],
      "source": [
        "show_image(invert_color(image))"
      ]
    },
    {
      "attachments": {},
      "cell_type": "markdown",
      "metadata": {},
      "source": [
        "### **Ejercicio 8:**"
      ]
    },
    {
      "attachments": {},
      "cell_type": "markdown",
      "metadata": {},
      "source": [
        "Cargo la imagen de ejemplo:"
      ]
    },
    {
      "cell_type": "code",
      "execution_count": 168,
      "metadata": {},
      "outputs": [],
      "source": [
        "image = get_example_image()\n",
        "show_image(image)"
      ]
    },
    {
      "attachments": {},
      "cell_type": "markdown",
      "metadata": {},
      "source": [
        "Defino una función \"histogram\" para calcular el histograma de una imágen. Recibe como parámetros:\n",
        "* image => Imágen a analizar\n",
        "* band => Banda a analizar\n",
        "* bit_depth => Profundidad de bits de la imágen\n",
        "\n",
        "Devuelve un array de 2^bit_depth posiciones con las ocurrencias de cada nivel de gris en la banda"
      ]
    },
    {
      "cell_type": "code",
      "execution_count": 169,
      "metadata": {},
      "outputs": [],
      "source": [
        "def histogram(image, band, bit_depth = 8):\n",
        "    hist = np.zeros(2**bit_depth)\n",
        "    unique_counts = np.unique(image[:, :, band], return_counts=True)\n",
        "    unique_counts = zip(unique_counts[0], unique_counts[1])\n",
        "    for value,count in unique_counts:\n",
        "        hist[value] = count / image[:, :, band].size\n",
        "\n",
        "    return hist"
      ]
    },
    {
      "attachments": {},
      "cell_type": "markdown",
      "metadata": {},
      "source": [
        "Calculo los histogramas para cada banda:"
      ]
    },
    {
      "cell_type": "code",
      "execution_count": 170,
      "metadata": {},
      "outputs": [],
      "source": [
        "hists = [histogram(image, i) for i in range(3)]"
      ]
    },
    {
      "attachments": {},
      "cell_type": "markdown",
      "metadata": {},
      "source": [
        "Defino una función que grafica los histogramas. Recibe como parámetros:\n",
        "* hists = Lista de histogramas a graficar\n",
        "* titles = Lista de títulos para cada histograma.\n",
        "* main_title = Título general del gráfico"
      ]
    },
    {
      "cell_type": "code",
      "execution_count": 171,
      "metadata": {},
      "outputs": [],
      "source": [
        "from matplotlib import pyplot as plt\n",
        "\n",
        "def plot_histograms(hists, titles, main_title):\n",
        "    fig, ax = plt.subplots(len(hists))\n",
        "    fig.suptitle(main_title)\n",
        "\n",
        "    for i in range(len(hists)):\n",
        "        ax[i].bar(np.linspace(0, len(hists[i]) - 1, len(hists[i])), hists[i])\n",
        "        ax[i].set_title(titles[i])\n",
        "\n",
        "    fig.tight_layout(h_pad=1)\n",
        "    plt.show()"
      ]
    },
    {
      "attachments": {},
      "cell_type": "markdown",
      "metadata": {},
      "source": [
        "Grafico los histogramas para las 3 bandas RGB de la imágen de ejemplo:"
      ]
    },
    {
      "cell_type": "code",
      "execution_count": 172,
      "metadata": {},
      "outputs": [
        {
          "data": {
            "image/png": "[encoded data removed]",
            "text/plain": [
              "<Figure size 640x480 with 3 Axes>"
            ]
          },
          "metadata": {},
          "output_type": "display_data"
        }
      ],
      "source": [
        "plot_histograms(hists, [\"Azul\", \"Verde\", \"Rojo\"], \"Histogramas para bandas RGB\")"
      ]
    },
    {
      "attachments": {},
      "cell_type": "markdown",
      "metadata": {},
      "source": [
        "### **Ejercicio 9:**"
      ]
    },
    {
      "attachments": {},
      "cell_type": "markdown",
      "metadata": {},
      "source": [
        "Cargo imágen de ejemplo:"
      ]
    },
    {
      "cell_type": "code",
      "execution_count": 173,
      "metadata": {},
      "outputs": [],
      "source": [
        "image = get_example_image()\n",
        "show_image(image)"
      ]
    },
    {
      "attachments": {},
      "cell_type": "markdown",
      "metadata": {},
      "source": [
        "Defino una función \"threshold\" que realiza una transformación de binarización por umbral en la imágen. Recibe los siguientes parámetros:\n",
        "* image = La imágen a binarizar\n",
        "* band = La banda de la imágen a binarizar\n",
        "* thershold = Valor entero entre 0 y (2 ^ bit_depth - 1). Los valores de los píxels cuyo nivel de gris estén por debajo de éste parámetro serán reemplazados por 0 y aquellos que sean iguales o lo superen, serán reemplazados por (2 ^ bit_depth - 1)\n",
        "* bit_depth = Profundidad de bits de la imágen\n",
        "\n",
        "Devuelve la banda binarizada\n"
      ]
    },
    {
      "cell_type": "code",
      "execution_count": 174,
      "metadata": {},
      "outputs": [],
      "source": [
        "def threshold(image, band, threshold, bit_depth = 8):\n",
        "    th_image = np.zeros((image.shape[0], image.shape[1]))\n",
        "    th_image[image[:, :, band] >= threshold] = (2**bit_depth -1)\n",
        "\n",
        "    return th_image"
      ]
    },
    {
      "attachments": {},
      "cell_type": "markdown",
      "metadata": {},
      "source": [
        "Banda: Azul, Umbral: 127"
      ]
    },
    {
      "cell_type": "code",
      "execution_count": 175,
      "metadata": {},
      "outputs": [],
      "source": [
        "show_image(threshold(image, 0, 127))"
      ]
    },
    {
      "attachments": {},
      "cell_type": "markdown",
      "metadata": {},
      "source": [
        "Banda: Azul, Umbral: 50"
      ]
    },
    {
      "cell_type": "code",
      "execution_count": 176,
      "metadata": {},
      "outputs": [],
      "source": [
        "show_image(threshold(image, 0, 50))"
      ]
    },
    {
      "attachments": {},
      "cell_type": "markdown",
      "metadata": {},
      "source": [
        "Banda: Azul, Umbral: 200"
      ]
    },
    {
      "cell_type": "code",
      "execution_count": 177,
      "metadata": {},
      "outputs": [],
      "source": [
        "show_image(threshold(image, 0, 200))"
      ]
    },
    {
      "attachments": {},
      "cell_type": "markdown",
      "metadata": {},
      "source": [
        "Banda: Verde, Umbral: 100"
      ]
    },
    {
      "cell_type": "code",
      "execution_count": 178,
      "metadata": {},
      "outputs": [],
      "source": [
        "show_image(threshold(image, 1, 100))"
      ]
    },
    {
      "attachments": {},
      "cell_type": "markdown",
      "metadata": {},
      "source": [
        "Banda: Rojo, Umbral: Media"
      ]
    },
    {
      "cell_type": "code",
      "execution_count": 179,
      "metadata": {},
      "outputs": [
        {
          "name": "stdout",
          "output_type": "stream",
          "text": [
            "Valor medio a utilizar de umbral: 55\n"
          ]
        }
      ],
      "source": [
        "mean_value = round(np.mean(image[:, :, 2]))\n",
        "print(\"Valor medio a utilizar de umbral:\", mean_value)"
      ]
    },
    {
      "cell_type": "code",
      "execution_count": 180,
      "metadata": {},
      "outputs": [],
      "source": [
        "show_image(threshold(image, 2, mean_value))"
      ]
    },
    {
      "attachments": {},
      "cell_type": "markdown",
      "metadata": {},
      "source": [
        "### **Ejercicio 10:**"
      ]
    },
    {
      "attachments": {},
      "cell_type": "markdown",
      "metadata": {},
      "source": [
        "Cargo la imágen de ejemplo:"
      ]
    },
    {
      "cell_type": "code",
      "execution_count": 181,
      "metadata": {},
      "outputs": [],
      "source": [
        "image = get_example_image()\n",
        "show_image(image)"
      ]
    },
    {
      "attachments": {},
      "cell_type": "markdown",
      "metadata": {},
      "source": [
        "Defino una función \"histogram_equalization\" que realiza una ecualización del histograma sobre una banda de la imágen pasada como parámetro y la devuelve.\n",
        "* image = La imágen a ecualizar\n",
        "* band = La banda de la imágen a ecualizar\n",
        "* bit_depth = Profundidad de bits de la imágen"
      ]
    },
    {
      "cell_type": "code",
      "execution_count": 182,
      "metadata": {},
      "outputs": [],
      "source": [
        "def histogram_equalization(image, band, bit_depth = 8):\n",
        "    # Obtenemos el histograma utilizando la función \"histogram\" creada en ejercicios anteriores\n",
        "    hist = histogram(image, band, bit_depth)\n",
        "\n",
        "    max_value = 2**bit_depth - 1\n",
        "   \n",
        "    # Obtenemos los niveles transformados haciendo la sumatoria hasta nivel k de las frecuencias, por cada nivel del histograma origen\n",
        "    sk = np.array([np.sum(hist[0:k]) for k in range(len(hist))])\n",
        "    \n",
        "    # smin = np.min(sk)\n",
        "    # sk = np.round((sk - smin) / (1 - smin) + 0.5)\n",
        "    transformed_levels = sk * max_value\n",
        "\n",
        "    # Crear una función vectorizada, que por cada elemento transforma el nivel de gris origen \n",
        "    # en el nivel de gris del nuevo histograma equalizado.\n",
        "    transform_function = np.vectorize(lambda rk: transformed_levels[rk])\n",
        "    return transform_function(image[:, :, band]).astype(\"uint\" + str(bit_depth))"
      ]
    },
    {
      "attachments": {},
      "cell_type": "markdown",
      "metadata": {},
      "source": [
        "Calculo la equalización para cada banda de la imagen y las muestro:"
      ]
    },
    {
      "cell_type": "code",
      "execution_count": 183,
      "metadata": {},
      "outputs": [],
      "source": [
        "eqs = [histogram_equalization(image, i) for i in range(image.shape[2])]"
      ]
    },
    {
      "cell_type": "code",
      "execution_count": 184,
      "metadata": {},
      "outputs": [],
      "source": [
        "for i in range(image.shape[2]):\n",
        "    show_image(eqs[i])"
      ]
    },
    {
      "attachments": {},
      "cell_type": "markdown",
      "metadata": {},
      "source": [
        "### **Ejercicio 11:**"
      ]
    },
    {
      "attachments": {},
      "cell_type": "markdown",
      "metadata": {},
      "source": [
        "Cargo la imágen de ejemplo:"
      ]
    },
    {
      "cell_type": "code",
      "execution_count": 185,
      "metadata": {},
      "outputs": [],
      "source": [
        "image = get_example_image()\n",
        "show_image(image)"
      ]
    },
    {
      "attachments": {},
      "cell_type": "markdown",
      "metadata": {},
      "source": [
        "Defino una función \"salt_and_pepper\" que agrega éste tipo de ruido a la imagen de entrada. Recibe como parámetros:\n",
        "* image = La imágen de entrada, a la que se le agregará ruido\n",
        "* p_salt = Probabilidad de salt (entre 0 y 1). Se genera un número p entre 0 y 1 con distribución uniforme por cada píxel, y si p < p_salt, entonces el nivel de gris del píxel es reemplazado por 255\n",
        "* p_pepper = Probabilidad de pepper (entre 0 y 1). Se genera un número p entre 0 y 1 con distribución uniforme por cada píxel, y si p > p_pepper, entonces el nivel de gris del píxel es reemplazado por 0\n",
        "* bit_depth = Profundidad de bits de la imágen\n",
        "\n",
        "Devuelve la imágen con ruido de sal y pimienta"
      ]
    },
    {
      "cell_type": "code",
      "execution_count": 186,
      "metadata": {},
      "outputs": [],
      "source": [
        "def salt_and_pepper(image, p_salt = 0.1, p_pepper = 0.1, bit_depth = 8):\n",
        "    # Genero una matriz de números aleatórios entre 0 y 1, con distribución uniforme, del mismo tamaño que la imagen de entrada\n",
        "    random = np.random.rand(image.shape[0], image.shape[1])\n",
        "\n",
        "    # Creo una matríz máscara, donde cada valor de la matriz \"random\" es reemplazado por -1 si es menor a p_salt, por 1 si es\n",
        "    # mayor a p_pepper, o por 0 en otro caso.\n",
        "    mask = np.zeros((image.shape[0], image.shape[1]))\n",
        "    mask[random < p_salt] = -1\n",
        "    mask[random > (1 - p_pepper)] = 1\n",
        "    \n",
        "    # Calculo el máximo valor de gris\n",
        "    max_value = 2 ** bit_depth - 1\n",
        "    \n",
        "    # Hago una copia de la imágen de entrada y reemplazo todos los pixels donde mask es -1 por el máximo valor (blanco),\n",
        "    # y todos los pixels donde mask es 1 por el mínimo valor (negro), en TODAS las bandas.\n",
        "    # El résto de los píxels quedan con valor original.\n",
        "    noisy_image = image.copy()\n",
        "    noisy_image[mask == -1, :] = max_value\n",
        "    noisy_image[mask == 1, :] = 0\n",
        "\n",
        "    return noisy_image"
      ]
    },
    {
      "attachments": {},
      "cell_type": "markdown",
      "metadata": {},
      "source": [
        "Ruido de salt and pepper con p_salt y p_pepper = 0.1 (densidad = 0.1)"
      ]
    },
    {
      "cell_type": "code",
      "execution_count": 187,
      "metadata": {},
      "outputs": [],
      "source": [
        "noisy_image = salt_and_pepper(image, p_salt=0.1, p_pepper=0.1)\n",
        "show_image(noisy_image)"
      ]
    },
    {
      "attachments": {},
      "cell_type": "markdown",
      "metadata": {},
      "source": [
        "Ruido de salt and pepper con p_salt y p_pepper = 0.01 (densidad = 0.01)"
      ]
    },
    {
      "cell_type": "code",
      "execution_count": 188,
      "metadata": {},
      "outputs": [],
      "source": [
        "noisy_image = salt_and_pepper(image, p_salt=0.01, p_pepper=0.01)\n",
        "show_image(noisy_image)"
      ]
    },
    {
      "attachments": {},
      "cell_type": "markdown",
      "metadata": {},
      "source": [
        "Ruido de salt and pepper con p_salt = 0.001 y p_pepper = 0.2, es decir mucho ruido pepper y poco salt:"
      ]
    },
    {
      "cell_type": "code",
      "execution_count": 189,
      "metadata": {},
      "outputs": [],
      "source": [
        "noisy_image = salt_and_pepper(image, p_salt=0.001, p_pepper=0.2)\n",
        "show_image(noisy_image)"
      ]
    },
    {
      "attachments": {},
      "cell_type": "markdown",
      "metadata": {},
      "source": [
        "### **Ejercicio 12:**"
      ]
    },
    {
      "attachments": {},
      "cell_type": "markdown",
      "metadata": {},
      "source": [
        "Defino clases para representar los diferentes operadores convolucionales y el filtro convolucional:"
      ]
    },
    {
      "cell_type": "code",
      "execution_count": 192,
      "metadata": {},
      "outputs": [],
      "source": [
        "# Interfaz para método de filtrado, que realiza una operación entre 2 matrices y devuelve un número.\n",
        "class FilterMethod():\n",
        "\n",
        "    # Método que devuelve el resultado de aplicar el filtro en una porción de imágen, según la clase concreta\n",
        "    # Por defecto no hace nada, si no es redefinido    \n",
        "    def apply(self, image_block):\n",
        "        return image_block\n",
        "    \n",
        "    # Devuelve la convolución dentre matrix y kernel (deben ser del mismo tamaño)\n",
        "    # Método útil para ser usado en clases descendientes\n",
        "    def _apply_convolution(self, matrix, kernel):\n",
        "        return np.round(np.sum(np.multiply(matrix, kernel), axis=(0,1)))\n",
        "\n",
        "# Clase que representa un filtro por la media.\n",
        "class MeanOperator(FilterMethod):\n",
        "\n",
        "    # Devuelve la convolución entre image_block y una matriz equivalente de unos, normalizada.\n",
        "    # El resultado es la media de image_block\n",
        "    def apply(self, image_block):\n",
        "        kernel_size = image_block.shape[0]\n",
        "        kernel = np.ones((kernel_size, kernel_size, 1)) / (kernel_size**2)\n",
        "        return self._apply_convolution(image_block, kernel)\n",
        "    \n",
        "# Clase que representa un filtro por la mediana.\n",
        "class MedianOperator(FilterMethod):\n",
        "\n",
        "    # Devuelve la mediana de image_block\n",
        "    def apply(self, image_block):\n",
        "        return np.median(image_block, axis=(0,1))\n",
        "\n",
        "# Clase que representa un filtro por mediana pondereda, dada una máscara de pesos\n",
        "class WeightedMedianOperator(FilterMethod):\n",
        "    \n",
        "    def __init__(self, mask = None) -> None:\n",
        "        super().__init__()\n",
        "        self.mask = mask\n",
        "\n",
        "    # Devuelve la mediana ponderada de image_block, dada una máscara de pesos\n",
        "    def apply(self, image_block):\n",
        "        kernel_size = image_block.shape[0]\n",
        "        kernel = self.mask if self.mask is not None else self._build_default_mask(kernel_size) # Si la máscara no fue provista, construyo una por default.\n",
        "        \n",
        "        # Por cada canal uso np.repeat para repetir cada elemento segun el kernel, luego creo un array con todos los canales\n",
        "        values = np.array([np.repeat(image_block[:,:,i], kernel.flatten()) for i in range(image_block.shape[2])])\n",
        "        \n",
        "        # Devuelvo la media de los valores con repetición, sobre cada banda\n",
        "        return np.median(values, axis=1)\n",
        "    \n",
        "    # Método para construir la mascara de pesos por default, si no es provista. El valor central toma el valor 2, y el resto se calcula\n",
        "    # como la inversa de la distancia a la coordenada central, discretizado utilizando ceil.\n",
        "    def _build_default_mask(self, kernel_size):\n",
        "        mask = np.zeros((kernel_size, kernel_size))\n",
        "        kernel_center = (kernel_size // 2, kernel_size // 2)\n",
        "        for i in range(kernel_size):\n",
        "            for j in range(kernel_size):\n",
        "                mask[i, j] = 1 / np.linalg.norm(np.array(kernel_center) - np.array((i, j))) if ((i,j) != kernel_center) else 2\n",
        "        \n",
        "        return np.ceil(mask / np.min(mask)).astype(\"uint8\")\n",
        "\n",
        "# Clase que representa un filtro de gauss. Recibe como parámetro la desviación estandar a utilizar.\n",
        "class GaussianOperator(FilterMethod):\n",
        "\n",
        "    def __init__(self, std = 1):\n",
        "        self.std = std\n",
        "\n",
        "    def apply(self, image_block):\n",
        "        kernel_size = image_block.shape[0]\n",
        "        kernel = self._build_kernel(kernel_size) # Construyo kernel de gauss, sin normalizar\n",
        "        kernel = kernel / np.sum(kernel) # Normalizo para que la suma del kernel de 1\n",
        "        \n",
        "        # Devuelvo la convolución de la porción de la imágen y el kernel\n",
        "        return self._apply_convolution(image_block, kernel)\n",
        "\n",
        "    # Función de densidad de gauss, evaluada en x,y, con desvío std.\n",
        "    def _evaluate_gaussian(self, x, y):\n",
        "        c = 1 / math.sqrt(2 * math.pi * (self.std**2))\n",
        "        return c * math.exp(-(x**2 + y**2) / (self.std**2))\n",
        "\n",
        "    # Función interna para construir el kernel del filtro, utilizando la función de densidad de gauss\n",
        "    def _build_kernel(self, kernel_size):\n",
        "        mask = np.zeros((kernel_size, kernel_size, 1))\n",
        "        kernel_center = (kernel_size // 2, kernel_size // 2)\n",
        "\n",
        "        # Calculo gauss evaluado en cada coordenada, centrando en kernel_center\n",
        "        for i in range(kernel_size):\n",
        "            for j in range(kernel_size):\n",
        "                x = i - kernel_center[0]\n",
        "                y = j - kernel_center[0]\n",
        "                mask[i,j,0] = self._evaluate_gaussian(x, y)\n",
        "\n",
        "        # Normalizo al valor mas bajo (siendo 1 el menor valor), y discretizo con round        \n",
        "        return np.round(mask / np.min(mask))\n",
        "\n",
        "# Clase que representa un filtro de suavizado\n",
        "class SmoothingFilter:\n",
        "\n",
        "    # kernel_size: Tamaño del kernel (matriz cuadrada)\n",
        "    # filter_method: Objeto de clase FilterMethod que representa el método de suavizado\n",
        "    def __init__(self, kernel_size = 3, filter_method = MeanOperator()) -> None:      \n",
        "        self.filter_method = filter_method\n",
        "        self.kernel_size = kernel_size\n",
        "        self.kernel_center = kernel_size // 2\n",
        "        self.top_left_border = self.kernel_center\n",
        "        self.bot_right_border = self.kernel_size - self.kernel_center - 1\n",
        "    \n",
        "    # Función que devuelve el resultado de aplicar el filtro de suavizado sobre la imagen pasada por parámetro.\n",
        "    # image: Imágen a la cual aplicar el filtro\n",
        "    # bit_depth: Profunidad de color de la imágen en bits.\n",
        "    def apply(self, image, bit_depth = 8):\n",
        "        padded_image = self._add_padding(image) # Primero aplico padding\n",
        "        filtered_image = np.zeros(image.shape) # Contenedor para imagen a retornar\n",
        "\n",
        "        # Recorro la imágen con ventanas deslizantes y aplico el filtro por cada ventana\n",
        "        for i in range(image.shape[0]):\n",
        "            for j in range(image.shape[1]):\n",
        "                filtered_image[i, j, :] = self._filter(padded_image, i, j)\n",
        "        \n",
        "        # Casteo imágen a uint con la profundidad pasada por param para discretizar\n",
        "        return filtered_image.astype(dtype=f\"uint{bit_depth}\")\n",
        "\n",
        "    # Método interno que efectúa el filtrado en las coordenadas i,j, siendo (i,j) el vértice superior izq.\n",
        "    def _filter(self, padded_image, i, j):\n",
        "        x_start = i\n",
        "        x_end = i + self.kernel_size\n",
        "        y_start = j\n",
        "        y_end = j + self.kernel_size\n",
        "        return self.filter_method.apply(padded_image[x_start:x_end, y_start:y_end, :])\n",
        "\n",
        "    # Método para agregar zero padding en los bordes.\n",
        "    def _add_padding(self, image):\n",
        "        # Construyo una matriz de 0s del tamaño de la imágen + los bordes\n",
        "        padded_image = np.zeros((image.shape[0] + self.kernel_size - 1, image.shape[1] + self.kernel_size - 1, image.shape[2]))\n",
        "        # Ubico la imágen original en el centro de la matriz, considerando los bordes\n",
        "        padded_image[self.top_left_border:(self.top_left_border + image.shape[0]), self.top_left_border:(self.top_left_border + image.shape[1]), :] = image\n",
        "        \n",
        "        return padded_image\n",
        "    "
      ]
    },
    {
      "attachments": {},
      "cell_type": "markdown",
      "metadata": {},
      "source": [
        "Filtro de la media, con kernel size = 3:"
      ]
    },
    {
      "cell_type": "code",
      "execution_count": 193,
      "metadata": {},
      "outputs": [],
      "source": [
        "mean_filter = SmoothingFilter(kernel_size=3, filter_method=MeanOperator())\n",
        "mean_smoothed_image = mean_filter.apply(image)\n",
        "show_image(mean_smoothed_image)"
      ]
    },
    {
      "attachments": {},
      "cell_type": "markdown",
      "metadata": {},
      "source": [
        "Filtro de la media, con kernel size = 6:"
      ]
    },
    {
      "cell_type": "code",
      "execution_count": 107,
      "metadata": {},
      "outputs": [],
      "source": [
        "mean_filter = SmoothingFilter(kernel_size=6, filter_method=MeanOperator())\n",
        "mean_smoothed_image = mean_filter.apply(image)\n",
        "show_image(mean_smoothed_image)"
      ]
    },
    {
      "attachments": {},
      "cell_type": "markdown",
      "metadata": {},
      "source": [
        "Filtro de mediana, con kernel size = 3:"
      ]
    },
    {
      "cell_type": "code",
      "execution_count": 108,
      "metadata": {},
      "outputs": [],
      "source": [
        "median_filter = SmoothingFilter(kernel_size=3, filter_method=MedianOperator())\n",
        "median_smoothed_image = median_filter.apply(image)\n",
        "show_image(median_smoothed_image)"
      ]
    },
    {
      "attachments": {},
      "cell_type": "markdown",
      "metadata": {},
      "source": [
        "Filtro de mediana, con kernel size = 6:"
      ]
    },
    {
      "cell_type": "code",
      "execution_count": 109,
      "metadata": {},
      "outputs": [],
      "source": [
        "median_filter = SmoothingFilter(kernel_size=6, filter_method=MedianOperator())\n",
        "median_smoothed_image = median_filter.apply(image)\n",
        "show_image(median_smoothed_image)"
      ]
    },
    {
      "attachments": {},
      "cell_type": "markdown",
      "metadata": {},
      "source": [
        "Filtro de mediana ponderada, con kernel size = 3:"
      ]
    },
    {
      "cell_type": "code",
      "execution_count": 111,
      "metadata": {},
      "outputs": [
        {
          "name": "stdout",
          "output_type": "stream",
          "text": [
            "Mascara: \n",
            "[[1 2 1]\n",
            " [2 4 2]\n",
            " [1 2 1]]\n"
          ]
        }
      ],
      "source": [
        "mask = np.array([[1, 2, 1], [2, 4, 2], [1, 2, 1]])\n",
        "print(\"Mascara: \")\n",
        "print(mask)\n",
        "\n",
        "weigthed_median_filter = SmoothingFilter(kernel_size=3, filter_method=WeightedMedianOperator(mask))\n",
        "weighted_median_smoothed_image = weigthed_median_filter.apply(image)\n",
        "show_image(weighted_median_smoothed_image)"
      ]
    },
    {
      "attachments": {},
      "cell_type": "markdown",
      "metadata": {},
      "source": [
        "Filtro de mediana ponderada, con kernel size = 5:"
      ]
    },
    {
      "cell_type": "code",
      "execution_count": 113,
      "metadata": {},
      "outputs": [
        {
          "name": "stdout",
          "output_type": "stream",
          "text": [
            "Mascara: \n",
            "[[1 2 3 2 1]\n",
            " [2 3 4 3 2]\n",
            " [3 4 6 4 3]\n",
            " [2 3 4 3 2]\n",
            " [1 2 3 2 1]]\n"
          ]
        }
      ],
      "source": [
        "mask = np.array([[1, 2, 3, 2, 1], [2, 3, 4, 3, 2], [3, 4, 6, 4, 3], [2, 3, 4, 3, 2], [1, 2, 3, 2, 1]])\n",
        "print(\"Mascara: \")\n",
        "print(mask)\n",
        "\n",
        "weigthed_median_filter = SmoothingFilter(kernel_size=5, filter_method=WeightedMedianOperator(mask))\n",
        "weighted_median_smoothed_image = weigthed_median_filter.apply(image)\n",
        "show_image(weighted_median_smoothed_image)"
      ]
    },
    {
      "attachments": {},
      "cell_type": "markdown",
      "metadata": {},
      "source": [
        "Filtro de gauss kernel size = 3 y std = 1"
      ]
    },
    {
      "cell_type": "code",
      "execution_count": 116,
      "metadata": {},
      "outputs": [
        {
          "name": "stdout",
          "output_type": "stream",
          "text": [
            "Mascara:\n",
            "[[1. 3. 1.]\n",
            " [3. 7. 3.]\n",
            " [1. 3. 1.]]\n"
          ]
        }
      ],
      "source": [
        "gaussian_operator = GaussianOperator(std=1)\n",
        "gaussian_filter = SmoothingFilter(kernel_size=3, filter_method=gaussian_operator)\n",
        "print(\"Mascara:\")\n",
        "print(gaussian_operator._build_kernel(3).squeeze())\n",
        "gaussian_smoothed_image = gaussian_filter.apply(image)\n",
        "show_image(gaussian_smoothed_image)"
      ]
    },
    {
      "attachments": {},
      "cell_type": "markdown",
      "metadata": {},
      "source": [
        "Filtro de gauss kernel size = 3 y std = 0.7"
      ]
    },
    {
      "cell_type": "code",
      "execution_count": 117,
      "metadata": {},
      "outputs": [
        {
          "name": "stdout",
          "output_type": "stream",
          "text": [
            "Mascara:\n",
            "[[ 1.  8.  1.]\n",
            " [ 8. 59.  8.]\n",
            " [ 1.  8.  1.]]\n"
          ]
        }
      ],
      "source": [
        "gaussian_operator = GaussianOperator(std=0.7)\n",
        "gaussian_filter = SmoothingFilter(kernel_size=3, filter_method=gaussian_operator)\n",
        "print(\"Mascara:\")\n",
        "print(gaussian_operator._build_kernel(3).squeeze())\n",
        "gaussian_smoothed_image = gaussian_filter.apply(image)\n",
        "show_image(gaussian_smoothed_image)"
      ]
    },
    {
      "attachments": {},
      "cell_type": "markdown",
      "metadata": {},
      "source": [
        "Filtro de gauss kernel size = 6 y std = 2"
      ]
    },
    {
      "cell_type": "code",
      "execution_count": 119,
      "metadata": {},
      "outputs": [
        {
          "name": "stdout",
          "output_type": "stream",
          "text": [
            "Mascara:\n",
            "[[ 1.  3.  7.  9.  7.  3.]\n",
            " [ 3. 12. 26. 33. 26. 12.]\n",
            " [ 7. 26. 55. 70. 55. 26.]\n",
            " [ 9. 33. 70. 90. 70. 33.]\n",
            " [ 7. 26. 55. 70. 55. 26.]\n",
            " [ 3. 12. 26. 33. 26. 12.]]\n"
          ]
        }
      ],
      "source": [
        "gaussian_operator = GaussianOperator(std=2)\n",
        "gaussian_filter = SmoothingFilter(kernel_size=6, filter_method=gaussian_operator)\n",
        "print(\"Mascara:\")\n",
        "print(gaussian_operator._build_kernel(6).squeeze())\n",
        "gaussian_smoothed_image = gaussian_filter.apply(image)\n",
        "show_image(gaussian_smoothed_image)"
      ]
    },
    {
      "attachments": {},
      "cell_type": "markdown",
      "metadata": {},
      "source": [
        "Filtro de gauss kernel size = 6 y std = 4"
      ]
    },
    {
      "cell_type": "code",
      "execution_count": 121,
      "metadata": {},
      "outputs": [
        {
          "name": "stdout",
          "output_type": "stream",
          "text": [
            "Mascara:\n",
            "[[1. 1. 2. 2. 2. 1.]\n",
            " [1. 2. 2. 2. 2. 2.]\n",
            " [2. 2. 3. 3. 3. 2.]\n",
            " [2. 2. 3. 3. 3. 2.]\n",
            " [2. 2. 3. 3. 3. 2.]\n",
            " [1. 2. 2. 2. 2. 2.]]\n"
          ]
        }
      ],
      "source": [
        "gaussian_operator = GaussianOperator(std=4)\n",
        "gaussian_filter = SmoothingFilter(kernel_size=6, filter_method=gaussian_operator)\n",
        "print(\"Mascara:\")\n",
        "print(gaussian_operator._build_kernel(6).squeeze())\n",
        "gaussian_smoothed_image = gaussian_filter.apply(image)\n",
        "show_image(gaussian_smoothed_image)"
      ]
    }
  ],
  "metadata": {
    "colab": {
      "provenance": []
    },
    "kernelspec": {
      "display_name": "Python 3",
      "name": "python3"
    },
    "language_info": {
      "codemirror_mode": {
        "name": "ipython",
        "version": 3
      },
      "file_extension": ".py",
      "mimetype": "text/x-python",
      "name": "python",
      "nbconvert_exporter": "python",
      "pygments_lexer": "ipython3",
      "version": "3.10.11"
    }
  },
  "nbformat": 4,
  "nbformat_minor": 0
}
